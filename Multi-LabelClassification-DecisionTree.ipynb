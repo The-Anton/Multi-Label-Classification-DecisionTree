{
  "nbformat": 4,
  "nbformat_minor": 0,
  "metadata": {
    "colab": {
      "name": "Copy of Untitled2.ipynb",
      "provenance": [],
      "authorship_tag": "ABX9TyPlTXnedo2Al8VYM1juCWkv",
      "include_colab_link": true
    },
    "kernelspec": {
      "name": "python3",
      "display_name": "Python 3"
    },
    "language_info": {
      "name": "python"
    }
  },
  "cells": [
    {
      "cell_type": "markdown",
      "metadata": {
        "id": "view-in-github",
        "colab_type": "text"
      },
      "source": [
        "<a href=\"https://colab.research.google.com/github/The-Anton/Multi-Label-Classification-DecisionTree/blob/main/Multi-LabelClassification-DecisionTree.ipynb\" target=\"_parent\"><img src=\"https://colab.research.google.com/assets/colab-badge.svg\" alt=\"Open In Colab\"/></a>"
      ]
    },
    {
      "cell_type": "code",
      "metadata": {
        "id": "TbGlK5uMSKGd"
      },
      "source": [
        "# Import libraries\n",
        "import numpy as np\n",
        "import pandas as pd"
      ],
      "execution_count": null,
      "outputs": []
    },
    {
      "cell_type": "code",
      "metadata": {
        "colab": {
          "base_uri": "https://localhost:8080/"
        },
        "id": "Nak9uvjIS-V1",
        "outputId": "ae6ba11c-bcb2-46c7-b05f-80768678f619"
      },
      "source": [
        "# Reading the diagnosis data\n",
        "diagnosisData = pd.read_csv(\"/content/groundWater.csv\", header=None)\n",
        "# diagnosisData.columns= [\"Patient No\", \"Disease\"]\n",
        "\n",
        "\n",
        "print(diagnosisData.columns)"
      ],
      "execution_count": null,
      "outputs": [
        {
          "output_type": "stream",
          "text": [
            "Int64Index([0, 1, 2, 3, 4, 5, 6, 7, 8, 9, 10, 11, 12, 13, 14], dtype='int64')\n"
          ],
          "name": "stdout"
        }
      ]
    }
  ]
}